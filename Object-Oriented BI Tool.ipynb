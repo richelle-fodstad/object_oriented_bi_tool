  {
   "cell_type": "markdown",
   "metadata": {},
   "source": [
    "##### Prototype and explanations"
   ]
  },
  {
   "cell_type": "markdown",
   "metadata": {},
   "source": [
    "The following prototype is of a business intelligence system, which gathers data about products sold to consumers, processes analytical metrics, and visualizes them as widgets, which can be branded by client customers for their internal reports or dashboards."
   ]
  },
  {
   "cell_type": "markdown",
   "metadata": {},
   "source": [
    "#### Libraries"
   ]
  },
  {
   "cell_type": "code",
   "execution_count": 1,
   "metadata": {},
   "outputs": [],
   "source": [
    "from abc import ABCMeta, ABC, abstractmethod\n",
    "import matplotlib.pyplot as plt\n",
    "from IPython.display import Image, display"
   ]
  },
  {
   "cell_type": "markdown",
   "metadata": {},
   "source": [
    "## 1. Support for Datasets"
   ]
  },
  {
   "cell_type": "markdown",
   "metadata": {},
   "source": [
    "### Factory Pattern"
   ]
  },
  {
   "cell_type": "markdown",
   "metadata": {},
   "source": [
    "The factory design pattern is chosen to support datasets as a client (eg. a retail sales representative) inputs a set of data into the system about a product for purchase (eg. for invoicing purposes).  This can be done by asking the factory object for data about the type of product needed, which it can then instantiate a concrete object of without the client having to implement the 'production' of its data/attributes manually.  As information about the concrete products are encapsulated, this protects them from any unintentional modifications by the client, unless otherwise requested and allowed.  The only downside to this design pattern is that should new types of concrete products be created, the factory class would have to be modified, breaking the object oriented design principle of classes being open for extension, but closed for modification."
   ]
  },
  {
   "cell_type": "markdown",
   "metadata": {},
   "source": [
    "#### Product Hierarchy"
   ]
  },
  {
   "cell_type": "code",
   "execution_count": 2,
   "metadata": {},
   "outputs": [],
   "source": [
    "class Product(metaclass = ABCMeta):\n",
    "    \n",
    "    @abstractmethod\n",
    "    def get_dataset():\n",
    "        \"\"\"The dataset interface\"\"\"\n",
    "        "
   ]
  },
  {
   "cell_type": "code",
   "execution_count": 3,
   "metadata": {},
   "outputs": [],
   "source": [
    "class Product_1(Product):\n",
    "    \n",
    "    def __init__(self):\n",
    "        self.__productID = 1\n",
    "        self.__cost = 15\n",
    "        self.__price = 35\n",
    "    \n",
    "    def get_productID(self):\n",
    "        return self.__productID\n",
    "            \n",
    "    productID = property(get_productID)\n",
    "    \n",
    "    def get_cost(self):\n",
    "        return self.__cost\n",
    "    \n",
    "    def set_cost(self, new_cost):\n",
    "        if new_cost > 0:\n",
    "            self.__cost = new_cost\n",
    "            print('Cost set.')\n",
    "        else:\n",
    "            print('Invalid product cost.')\n",
    "            \n",
    "    cost = property(get_cost, set_cost)\n",
    "    \n",
    "    def get_price(self):\n",
    "        return self.__price\n",
    "    \n",
    "    def set_price(self, new_price):\n",
    "        if new_price >= 0:\n",
    "            self.__price = new_price\n",
    "            print('Price set.')\n",
    "        else:\n",
    "            print('Invalid product price.')\n",
    "            \n",
    "    price = property(get_price, set_price)\n",
    "    \n",
    "    def get_dataset(self):\n",
    "        return {\"ProductID\": self.__productID, \"Cost\": self.__cost, \"Price\": self.__price}"
   ]
  },
  {
   "cell_type": "code",
   "execution_count": 4,
   "metadata": {},
   "outputs": [],
   "source": [
    "class Product_2(Product):\n",
    "    \n",
    "    def __init__(self):\n",
    "        self.__productID = 2\n",
    "        self.__cost = 9\n",
    "        self.__price = 20\n",
    "    \n",
    "    def get_productID(self):\n",
    "        return self.__productID\n",
    "            \n",
    "    productID = property(get_productID)\n",
    "    \n",
    "    def get_cost(self):\n",
    "        return self.__cost\n",
    "    \n",
    "    def set_cost(self, new_cost):\n",
    "        if new_cost > 0:\n",
    "            self.__cost = new_cost\n",
    "            print('Cost set.')\n",
    "        else:\n",
    "            print('Invalid product cost.')\n",
    "            \n",
    "    cost = property(get_cost, set_cost)\n",
    "    \n",
    "    def get_price(self):\n",
    "        return self.__price\n",
    "    \n",
    "    def set_price(self, new_price):\n",
    "        if new_price >= 0:\n",
    "            self.__price = new_price\n",
    "            print('Price set.')\n",
    "        else:\n",
    "            print('Invalid product price.')\n",
    "            \n",
    "    price = property(get_price, set_price)\n",
    "    \n",
    "    def get_dataset(self):\n",
    "        return {\"ProductID\": self.__productID, \"Cost\": self.__cost, \"Price\": self.__price}\n",
    "    "
   ]
  },
  {
   "cell_type": "code",
   "execution_count": 5,
   "metadata": {},
   "outputs": [],
   "source": [
    "class Product_3(Product):\n",
    "    \n",
    "    def __init__(self):\n",
    "        self.__productID = 3\n",
    "        self.__cost = 25\n",
    "        self.__price = 80\n",
    "    \n",
    "    def get_productID(self):\n",
    "        return self.__productID\n",
    "            \n",
    "    productID = property(get_productID)\n",
    "    \n",
    "    def get_cost(self):\n",
    "        return self.__cost\n",
    "    \n",
    "    def set_cost(self, new_cost):\n",
    "        if new_cost > 0:\n",
    "            self.__cost = new_cost\n",
    "            print('Cost set.')\n",
    "        else:\n",
    "            print('Invalid product cost.')\n",
    "            \n",
    "    cost = property(get_cost, set_cost)\n",
    "    \n",
    "    def get_price(self):\n",
    "        return self.__price\n",
    "    \n",
    "    def set_price(self, new_price):\n",
    "        if new_price >= 0:\n",
    "            self.__price = new_price\n",
    "            print('Price set.')\n",
    "        else:\n",
    "            print('Invalid product price.')\n",
    "            \n",
    "    price = property(get_price, set_price)\n",
    "    \n",
    "    def get_dataset(self):\n",
    "        return {\"ProductID\": self.__productID, \"Cost\": self.__cost, \"Price\": self.__price}\n",
    "    "
   ]
  },
  {
   "cell_type": "markdown",
   "metadata": {},
   "source": [
    "#### Factory"
   ]
  },
  {
   "cell_type": "code",
   "execution_count": 6,
   "metadata": {},
   "outputs": [],
   "source": [
    "class ProductFactory():\n",
    "    \n",
    "    def create_dataset(self, productID):\n",
    "        if productID == 1:\n",
    "            return Product_1()\n",
    "        if productID == 2:\n",
    "            return Product_2()\n",
    "        if productID == 3:\n",
    "            return Product_3()\n"
   ]
  },
  {
   "cell_type": "markdown",
   "metadata": {},
   "source": [
    "#### Client Interface"
   ]
  },
  {
   "cell_type": "markdown",
   "metadata": {},
   "source": [
    "Point of sale"
   ]
  },
  {
   "cell_type": "code",
   "execution_count": 7,
   "metadata": {},
   "outputs": [],
   "source": [
    "# create application\n",
    "PF = ProductFactory()\n",
    "\n",
    "# create products as items for puchrase, for example:\n",
    "item_1 = PF.create_dataset(1)\n",
    "item_2 = PF.create_dataset(2)\n",
    "item_3 = PF.create_dataset(2)\n",
    "item_4 = PF.create_dataset(3)\n"
   ]
  },
  {
   "cell_type": "code",
   "execution_count": 8,
   "metadata": {},
   "outputs": [
    {
     "name": "stdout",
     "output_type": "stream",
     "text": [
      "Price set.\n"
     ]
    }
   ],
   "source": [
    "# modify cost or price of any item (eg. 2 for 1 campaign on product 2)\n",
    "item_3.price = 0\n"
   ]
  },
  {
   "cell_type": "code",
   "execution_count": 9,
   "metadata": {},
   "outputs": [],
   "source": [
    "# inspect data of items for purchase\n",
    "item_1_ds = item_1.get_dataset()\n",
    "item_2_ds = item_2.get_dataset()\n",
    "item_3_ds = item_3.get_dataset()\n",
    "item_4_ds = item_4.get_dataset()\n"
   ]
  },
  {
   "cell_type": "code",
   "execution_count": 10,
   "metadata": {},
   "outputs": [],
   "source": [
    "sales = [] # list object will be used for different strategies/behaviours of calculating metrics in the system\n",
    "sales.append(item_1_ds)\n",
    "sales.append(item_2_ds)\n",
    "sales.append(item_3_ds)\n",
    "sales.append(item_4_ds)\n"
   ]
  },
  {
   "cell_type": "code",
   "execution_count": 11,
   "metadata": {},
   "outputs": [
    {
     "name": "stdout",
     "output_type": "stream",
     "text": [
      "{'ProductID': 1, 'Cost': 15, 'Price': 35}\n",
      "{'ProductID': 2, 'Cost': 9, 'Price': 20}\n",
      "{'ProductID': 2, 'Cost': 9, 'Price': 0}\n",
      "{'ProductID': 3, 'Cost': 25, 'Price': 80}\n"
     ]
    }
   ],
   "source": [
    "for sale in sales:\n",
    "    print(sale)\n",
    "    "
   ]
  },
  {
   "cell_type": "markdown",
   "metadata": {},
   "source": [
    "## 2. Support for calculating metrics"
   ]
  },
  {
   "cell_type": "markdown",
   "metadata": {},
   "source": [
    "### Strategy Pattern"
   ]
  },
  {
   "cell_type": "markdown",
   "metadata": {},
   "source": [
    "A strategy design pattern is implemented to run a selection of algorithms without changing the client framework.  Thus, the client can depend on composition as opposed to inheritance to interchange the behaviour of the application in the same context, as such are delegated to an abstract strategy (or metric in this case).  As different behaviours are encapsulated, new algorithms can be introduced easily.  This has a downside however in that the application does not intuitively know all the strategies available to run."
   ]
  },
  {
   "cell_type": "markdown",
   "metadata": {},
   "source": [
    "#### Strategies"
   ]
  },
  {
   "cell_type": "markdown",
   "metadata": {},
   "source": [
    "Using client-generated dataset for context"
   ]
  },
  {
   "cell_type": "code",
   "execution_count": 12,
   "metadata": {},
   "outputs": [],
   "source": [
    "class Metric(ABC):\n",
    "    \n",
    "    @abstractmethod\n",
    "    def calculate(self):\n",
    "        pass\n",
    "    \n",
    "    # @abstractmethod\n",
    "    # def create_dataset(self):\n",
    "        # pass\n"
   ]
  },
  {
   "cell_type": "code",
   "execution_count": 13,
   "metadata": {},
   "outputs": [],
   "source": [
    "def product_1_count(self):\n",
    "    count = 0\n",
    "    for dictionaries in sales:\n",
    "        for ProductID in dictionaries.values():\n",
    "            if ProductID == 1:\n",
    "                count += 1\n",
    "    return count\n",
    "\n",
    "def product_2_count(self):\n",
    "    count = 0\n",
    "    for dictionaries in sales:\n",
    "        for ProductID in dictionaries.values():\n",
    "            if ProductID == 2:\n",
    "                count += 1\n",
    "    return count\n",
    "\n",
    "def product_3_count(self):\n",
    "    count = 0\n",
    "    for dictionaries in sales:\n",
    "        for ProductID in dictionaries.values():\n",
    "            if ProductID == 3:\n",
    "                count += 1\n",
    "    return count\n",
    "\n",
    "class Quantity(Metric):\n",
    "        \n",
    "    def calculate(self): # uses sales list object in functions called to calculate metric\n",
    "        p1_sales = product_1_count(self)\n",
    "        p2_sales = product_2_count(self)\n",
    "        p3_sales = product_3_count(self)\n",
    "        print('Quantity Sold\\nProduct 1: {}\\nProduct 2: {}\\nProduct 3: {}'.format(p1_sales, p2_sales, p3_sales))\n",
    "    \n",
    "    def create_dataset(self): # creates dictionary object of metric for plotting visuals displayed by widgets\n",
    "        global quantity_data\n",
    "        quantity_data = {}\n",
    "        p1_sales = product_1_count(self)\n",
    "        p2_sales = product_2_count(self)\n",
    "        p3_sales = product_3_count(self)\n",
    "        quantity_data.update({'Product 1': p1_sales})\n",
    "        quantity_data.update({'Product 2': p2_sales})\n",
    "        quantity_data.update({'Product 3': p3_sales})\n",
    "        return quantity_data\n"
   ]
  },
  {
   "cell_type": "code",
   "execution_count": 14,
   "metadata": {},
   "outputs": [],
   "source": [
    "class Revenue(Metric):\n",
    "    \n",
    "    def calculate(self): # creates price dictionary to store metric\n",
    "        price = {}\n",
    "        for dictionaries in sales:\n",
    "            for keys in dictionaries.keys():\n",
    "                if keys == 'Price':\n",
    "                    price[keys] = price.get(keys, 0) + dictionaries[keys]\n",
    "        print('Sales Revenue: ' + str(price.get('Price')))\n",
    "\n",
    "    def create_dataset(self): # creates dictionary object of metric for plotting visuals displayed by widget\n",
    "        global revenue_data\n",
    "        revenue_data = {}\n",
    "        for dictionaries in sales:\n",
    "            for keys in dictionaries.keys():\n",
    "                if keys == 'Price':\n",
    "                    revenue_data[keys] = revenue_data.get(keys, 0) + dictionaries[keys]\n",
    "        revenue_data['Sales Revenue'] = revenue_data['Price'] # replace value\n",
    "        del revenue_data['Price'] # original key\n",
    "        revenue_data.update({'Target': 750}) # budget figure on plot\n",
    "        return revenue_data\n"
   ]
  },
  {
   "cell_type": "code",
   "execution_count": 15,
   "metadata": {},
   "outputs": [],
   "source": [
    "def product_1_margin(self):\n",
    "    price = {}\n",
    "    cost = {}\n",
    "    \n",
    "    for dictionaries in sales:\n",
    "        for ProductID in dictionaries.values():\n",
    "            if ProductID == 1:\n",
    "                for keys in dictionaries.keys():\n",
    "                    if keys == 'Price':\n",
    "                        price[keys] = price.get(keys, 0) + dictionaries[keys]\n",
    "                        \n",
    "    for dictionaries in sales:\n",
    "        for ProductID in dictionaries.values():\n",
    "            if ProductID == 1:\n",
    "                for keys in dictionaries.keys():\n",
    "                    if keys == 'Cost':\n",
    "                        cost[keys] = cost.get(keys, 0) + dictionaries[keys]\n",
    "                        \n",
    "    margin = ((price.get('Price') - cost.get('Cost')) / price.get('Price')) * 100\n",
    "    \n",
    "    return round(margin, 2)\n",
    "\n",
    "def product_2_margin(self):\n",
    "    price = {}\n",
    "    cost = {}\n",
    "    \n",
    "    for dictionaries in sales:\n",
    "        for ProductID in dictionaries.values():\n",
    "            if ProductID == 2:\n",
    "                for keys in dictionaries.keys():\n",
    "                    if keys == 'Price':\n",
    "                        price[keys] = price.get(keys, 0) + dictionaries[keys]\n",
    "                        \n",
    "    for dictionaries in sales:\n",
    "        for ProductID in dictionaries.values():\n",
    "            if ProductID == 2:\n",
    "                for keys in dictionaries.keys():\n",
    "                    if keys == 'Cost':\n",
    "                        cost[keys] = cost.get(keys, 0) + dictionaries[keys]\n",
    "                        \n",
    "    margin = ((price.get('Price') - cost.get('Cost')) / price.get('Price')) * 100\n",
    "    \n",
    "    return round(margin, 2)\n",
    "\n",
    "def product_3_margin(self):\n",
    "    price = {}\n",
    "    cost = {}\n",
    "    \n",
    "    for dictionaries in sales:\n",
    "        for ProductID in dictionaries.values():\n",
    "            if ProductID == 3:\n",
    "                for keys in dictionaries.keys():\n",
    "                    if keys == 'Price':\n",
    "                        price[keys] = price.get(keys, 0) + dictionaries[keys]\n",
    "                        \n",
    "    for dictionaries in sales:\n",
    "        for ProductID in dictionaries.values():\n",
    "            if ProductID == 3:\n",
    "                for keys in dictionaries.keys():\n",
    "                    if keys == 'Cost':\n",
    "                        cost[keys] = cost.get(keys, 0) + dictionaries[keys]\n",
    "                        \n",
    "    margin = ((price.get('Price') - cost.get('Cost')) / price.get('Price')) * 100\n",
    "    \n",
    "    return round(margin, 2)\n",
    "\n",
    "class Margin(Metric): # uses sales list object in functions called to calculate metric\n",
    "        \n",
    "    def calculate(self): \n",
    "        p1_margin = product_1_margin(self)\n",
    "        p2_margin = product_2_margin(self)\n",
    "        p3_margin = product_3_margin(self)\n",
    "        print('Margin\\nProduct 1: {}\\nProduct 2: {}\\nProduct 3: {}'.format(p1_margin, p2_margin, p3_margin))\n",
    "        \n",
    "    def create_dataset(self): # creates dictionary object of metric for plotting visuals displayed by widgets\n",
    "        global margin_data\n",
    "        margin_data = {}\n",
    "        p1_margin = product_1_margin(self)\n",
    "        p2_margin = product_2_margin(self)\n",
    "        p3_margin = product_3_margin(self)\n",
    "        margin_data.update({'Product 1': p1_margin})\n",
    "        margin_data.update({'Product 2': p2_margin})\n",
    "        margin_data.update({'Product 3': p3_margin})\n",
    "        return margin_data\n",
    "        "
   ]
  },
  {
   "cell_type": "markdown",
   "metadata": {},
   "source": [
    "#### Client Interface"
   ]
  },
  {
   "cell_type": "markdown",
   "metadata": {},
   "source": [
    "Select dataset processing method based on type of metric<br />\n",
    "Metric types: Quantity(), Revenue(), or Margin()"
   ]
  },
  {
   "cell_type": "code",
   "execution_count": 33,
   "metadata": {},
   "outputs": [
    {
     "name": "stdout",
     "output_type": "stream",
     "text": [
      "Margin\n",
      "Product 1: 57.14\n",
      "Product 2: 10.0\n",
      "Product 3: 68.75\n"
     ]
    }
   ],
   "source": [
    "# interchange value of metric variable with other types\n",
    "metric = Margin()\n",
    "metric.calculate()"
   ]
  },
  {
   "cell_type": "markdown",
   "metadata": {},
   "source": [
    "## 3. Decoupled frontend vs backend"
   ]
  },
  {
   "cell_type": "markdown",
   "metadata": {},
   "source": [
    "### Observer Pattern"
   ]
  },
  {
   "cell_type": "markdown",
   "metadata": {},
   "source": [
    "The decoupled frontend and backend of this system requires the implementation of an observer design pattern, in which a subscription mechanism can update any number of objects about the observable dataset.  In this case, changes to the 'state' of the dataset would require changing the 'state' of the metrics calculated in the back-end, and therefore their respective front-end widgets."
   ]
  },
  {
   "cell_type": "markdown",
   "metadata": {},
   "source": [
    "#### Subject"
   ]
  },
  {
   "cell_type": "code",
   "execution_count": 17,
   "metadata": {},
   "outputs": [],
   "source": [
    "from abc import ABCMeta, abstractmethod\n",
    "class Subject(metaclass=ABCMeta):\n",
    "    \"The Subject Interface\"\n",
    "    \n",
    "    @staticmethod\n",
    "    @abstractmethod\n",
    "    def subscribe(observer):\n",
    "        \"The subscribe method\"\n",
    "        \n",
    "    @staticmethod\n",
    "    @abstractmethod\n",
    "    def unsubscribe(observer):\n",
    "        \"The unsubscribe method\"\n",
    "        \n",
    "    @staticmethod\n",
    "    @abstractmethod\n",
    "    def update_display(observer):\n",
    "        \"The update display method\"\n"
   ]
  },
  {
   "cell_type": "code",
   "execution_count": 18,
   "metadata": {},
   "outputs": [],
   "source": [
    "class SalesData(Subject):\n",
    "\n",
    "    def __init__(self):\n",
    "        self._widgets = set() # to prevent duplicate metrics (observer subscriptions)\n",
    "        \n",
    "    def subscribe(self, widget):\n",
    "        self._widgets.add(widget)\n",
    "        \n",
    "    def unsubscribe(self, widget):\n",
    "        self._widgets.remove(widget)\n",
    "        \n",
    "    def update_display(self):\n",
    "        for widget in self._widgets:\n",
    "            widget.update_display(self)\n",
    "            "
   ]
  },
  {
   "cell_type": "markdown",
   "metadata": {},
   "source": [
    "#### Observers (concrete components for decorators)"
   ]
  },
  {
   "cell_type": "code",
   "execution_count": 19,
   "metadata": {},
   "outputs": [],
   "source": [
    "class Observer(metaclass=ABCMeta):\n",
    "\n",
    "    @staticmethod\n",
    "    @abstractmethod\n",
    "    def update_display(widget):\n",
    "        \"Receive notifications\"\n",
    "        "
   ]
  },
  {
   "cell_type": "code",
   "execution_count": 20,
   "metadata": {},
   "outputs": [],
   "source": [
    "class QuantitySoldWidget(Observer):\n",
    "\n",
    "    def __init__(self, widget):\n",
    "        widget.subscribe(self)\n",
    "        \n",
    "    def update_display(self, widget): # calls on function to produce dataset as a dictionary in metric class for visualisation\n",
    "        quantity_metric.create_dataset()\n",
    "        plt.title('Quantity Sold')\n",
    "        plt.xticks(rotation=0, ha='center')\n",
    "        data = quantity_data\n",
    "        products = list(data.keys())\n",
    "        values = list(data.values())\n",
    "        plt.bar(range(len(data)), values, tick_label=products)\n",
    "        return plt.show()\n",
    "        "
   ]
  },
  {
   "cell_type": "code",
   "execution_count": 21,
   "metadata": {},
   "outputs": [],
   "source": [
    "class SalesRevenueWidget(Observer):\n",
    "\n",
    "    def __init__(self, widget):\n",
    "        widget.subscribe(self)\n",
    "        \n",
    "    def update_display(self, widget): # calls on function to produce dataset as a dictionary in metric class for visualisation\n",
    "        revenue_metric.create_dataset()\n",
    "        plt.title('Sales Revenue')\n",
    "        plt.xticks(rotation=0, ha='center')\n",
    "        data = revenue_data\n",
    "        revenue = list(data.keys())\n",
    "        values = list(data.values())\n",
    "        plt.bar(range(len(data)), values, tick_label=revenue)\n",
    "        return plt.show()\n",
    "        "
   ]
  },
  {
   "cell_type": "code",
   "execution_count": 22,
   "metadata": {},
   "outputs": [],
   "source": [
    "class MarginWidget(Observer):\n",
    "\n",
    "    def __init__(self, widget):\n",
    "        widget.subscribe(self)\n",
    "        \n",
    "    def update_display(self, widget):  # calls on function to produce dataset as a dictionary in metric class for visualisation\n",
    "        margin_metric.create_dataset()\n",
    "        plt.title('Margin')\n",
    "        plt.xticks(rotation=0, ha='center')\n",
    "        data = margin_data\n",
    "        products = list(data.keys())\n",
    "        values = list(data.values())\n",
    "        plt.bar(range(len(data)), values, tick_label=products)\n",
    "        return plt.show()\n",
    "        "
   ]
  },
  {
   "cell_type": "markdown",
   "metadata": {},
   "source": [
    "#### Client Interface"
   ]
  },
  {
   "cell_type": "markdown",
   "metadata": {},
   "source": [
    "Run metric calculations in backend (ie. behaviours of dataset produced by client from the product factory)"
   ]
  },
  {
   "cell_type": "code",
   "execution_count": 23,
   "metadata": {},
   "outputs": [],
   "source": [
    "quantity_metric = Quantity()\n",
    "revenue_metric = Revenue()\n",
    "margin_metric = Margin()"
   ]
  },
  {
   "cell_type": "markdown",
   "metadata": {},
   "source": [
    "Subscribe, update display, and unsubscribe frontend reporting widgets"
   ]
  },
  {
   "cell_type": "code",
   "execution_count": 24,
   "metadata": {},
   "outputs": [],
   "source": [
    "SalesAnalysis = SalesData() # create subject\n",
    "Widget_1 = QuantitySoldWidget(Subject)\n",
    "Widget_2 = SalesRevenueWidget(Subject)\n",
    "Widget_3 = MarginWidget(Subject)"
   ]
  },
  {
   "cell_type": "code",
   "execution_count": 25,
   "metadata": {},
   "outputs": [
    {
     "data": {
      "image/png": "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\n",
      "text/plain": [
       "<Figure size 432x288 with 1 Axes>"
      ]
     },
     "metadata": {
      "needs_background": "light"
     },
     "output_type": "display_data"
    },
    {
     "data": {
      "image/png": "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\n",
      "text/plain": [
       "<Figure size 432x288 with 1 Axes>"
      ]
     },
     "metadata": {
      "needs_background": "light"
     },
     "output_type": "display_data"
    },
    {
     "data": {
      "image/png": "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\n",
      "text/plain": [
       "<Figure size 432x288 with 1 Axes>"
      ]
     },
     "metadata": {
      "needs_background": "light"
     },
     "output_type": "display_data"
    }
   ],
   "source": [
    "SalesAnalysis.subscribe(Widget_1)\n",
    "SalesAnalysis.subscribe(Widget_2)\n",
    "SalesAnalysis.subscribe(Widget_3)\n",
    "SalesAnalysis.update_display()"
   ]
  },
  {
   "cell_type": "markdown",
   "metadata": {},
   "source": [
    "## 4. Consistent branding"
   ]
  },
  {
   "cell_type": "markdown",
   "metadata": {},
   "source": [
    "### Decorator Pattern"
   ]
  },
  {
   "cell_type": "markdown",
   "metadata": {},
   "source": [
    "To attach potential client customer requirements, such as brand information to the frontend of this system, a decorator design pattern can be used.  Since brand information varies between companies, the decorator pattern allows extensibility by performing extra functions on top of an enclosed object's methods."
   ]
  },
  {
   "cell_type": "markdown",
   "metadata": {},
   "source": [
    "#### Decorator"
   ]
  },
  {
   "cell_type": "code",
   "execution_count": 26,
   "metadata": {},
   "outputs": [],
   "source": [
    "class WidgetDecorator(Observer):\n",
    "        \n",
    "    def __init__(self, widget):\n",
    "        self.generic_widget = widget # concrete observer\n",
    "        \n",
    "    def update_display(self):\n",
    "        corporate_logo = 'corporate_logo.jpg'\n",
    "        brand_display = display(Image(filename = corporate_logo))\n",
    "        decorator_method = print(brand_display)\n",
    "        return f'{decorator_method}\\n{self.generic_widget.update_display()}'\n"
   ]
  },
  {
   "cell_type": "markdown",
   "metadata": {},
   "source": [
    "#### Client"
   ]
  },
  {
   "cell_type": "code",
   "execution_count": 30,
   "metadata": {},
   "outputs": [],
   "source": [
    "customer_dashboard = SalesData()\n",
    "\n",
    "quantity_widget = QuantitySoldWidget(Subject)\n",
    "revenue_widget = SalesRevenueWidget(Subject)\n",
    "margin_widget = MarginWidget(Subject)\n",
    "\n",
    "branded_quantity_widget = WidgetDecorator(quantity_widget)\n",
    "branded_revenue_widget = WidgetDecorator(revenue_widget)\n",
    "branded_margin_widget = WidgetDecorator(margin_widget)"
   ]
  },
  {
   "cell_type": "code",
   "execution_count": 31,
   "metadata": {},
   "outputs": [
    {
     "ename": "TypeError",
     "evalue": "update_display() takes 1 positional argument but 2 were given",
     "output_type": "error",
     "traceback": [
      "\u001b[1;31m---------------------------------------------------------------------------\u001b[0m",
      "\u001b[1;31mTypeError\u001b[0m                                 Traceback (most recent call last)",
      "\u001b[1;32m<ipython-input-31-74ce67de1d01>\u001b[0m in \u001b[0;36m<module>\u001b[1;34m\u001b[0m\n\u001b[0;32m      2\u001b[0m \u001b[0mcustomer_dashboard\u001b[0m\u001b[1;33m.\u001b[0m\u001b[0msubscribe\u001b[0m\u001b[1;33m(\u001b[0m\u001b[0mbranded_revenue_widget\u001b[0m\u001b[1;33m)\u001b[0m\u001b[1;33m\u001b[0m\u001b[1;33m\u001b[0m\u001b[0m\n\u001b[0;32m      3\u001b[0m \u001b[0mcustomer_dashboard\u001b[0m\u001b[1;33m.\u001b[0m\u001b[0msubscribe\u001b[0m\u001b[1;33m(\u001b[0m\u001b[0mbranded_margin_widget\u001b[0m\u001b[1;33m)\u001b[0m\u001b[1;33m\u001b[0m\u001b[1;33m\u001b[0m\u001b[0m\n\u001b[1;32m----> 4\u001b[1;33m \u001b[0mcustomer_dashboard\u001b[0m\u001b[1;33m.\u001b[0m\u001b[0mupdate_display\u001b[0m\u001b[1;33m(\u001b[0m\u001b[1;33m)\u001b[0m\u001b[1;33m\u001b[0m\u001b[1;33m\u001b[0m\u001b[0m\n\u001b[0m",
      "\u001b[1;32m<ipython-input-18-f6979ccaa112>\u001b[0m in \u001b[0;36mupdate_display\u001b[1;34m(self)\u001b[0m\n\u001b[0;32m     12\u001b[0m     \u001b[1;32mdef\u001b[0m \u001b[0mupdate_display\u001b[0m\u001b[1;33m(\u001b[0m\u001b[0mself\u001b[0m\u001b[1;33m)\u001b[0m\u001b[1;33m:\u001b[0m\u001b[1;33m\u001b[0m\u001b[1;33m\u001b[0m\u001b[0m\n\u001b[0;32m     13\u001b[0m         \u001b[1;32mfor\u001b[0m \u001b[0mwidget\u001b[0m \u001b[1;32min\u001b[0m \u001b[0mself\u001b[0m\u001b[1;33m.\u001b[0m\u001b[0m_widgets\u001b[0m\u001b[1;33m:\u001b[0m\u001b[1;33m\u001b[0m\u001b[1;33m\u001b[0m\u001b[0m\n\u001b[1;32m---> 14\u001b[1;33m             \u001b[0mwidget\u001b[0m\u001b[1;33m.\u001b[0m\u001b[0mupdate_display\u001b[0m\u001b[1;33m(\u001b[0m\u001b[0mself\u001b[0m\u001b[1;33m)\u001b[0m\u001b[1;33m\u001b[0m\u001b[1;33m\u001b[0m\u001b[0m\n\u001b[0m\u001b[0;32m     15\u001b[0m \u001b[1;33m\u001b[0m\u001b[0m\n",
      "\u001b[1;31mTypeError\u001b[0m: update_display() takes 1 positional argument but 2 were given"
     ]
    }
   ],
   "source": [
    "customer_dashboard.subscribe(branded_quantity_widget)\n",
    "customer_dashboard.subscribe(branded_revenue_widget)\n",
    "customer_dashboard.subscribe(branded_margin_widget)\n",
    "customer_dashboard.update_display()"
   ]
  },
  {
   "cell_type": "code",
   "execution_count": null,
   "metadata": {},
   "outputs": [],
   "source": []
  },
  {
   "cell_type": "code",
   "execution_count": 32,
   "metadata": {},
   "outputs": [
    {
     "data": {
      "image/jpeg": "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\n",
      "text/plain": [
       "<IPython.core.display.Image object>"
      ]
     },
     "metadata": {},
     "output_type": "display_data"
    },
    {
     "name": "stdout",
     "output_type": "stream",
     "text": [
      "None\n"
     ]
    },
    {
     "ename": "TypeError",
     "evalue": "update_display() missing 1 required positional argument: 'widget'",
     "output_type": "error",
     "traceback": [
      "\u001b[1;31m---------------------------------------------------------------------------\u001b[0m",
      "\u001b[1;31mTypeError\u001b[0m                                 Traceback (most recent call last)",
      "\u001b[1;32m<ipython-input-32-dcab4e3ebb99>\u001b[0m in \u001b[0;36m<module>\u001b[1;34m\u001b[0m\n\u001b[1;32m----> 1\u001b[1;33m \u001b[0mprint\u001b[0m\u001b[1;33m(\u001b[0m\u001b[0mbranded_quantity_widget\u001b[0m\u001b[1;33m.\u001b[0m\u001b[0mupdate_display\u001b[0m\u001b[1;33m(\u001b[0m\u001b[1;33m)\u001b[0m\u001b[1;33m)\u001b[0m\u001b[1;33m\u001b[0m\u001b[1;33m\u001b[0m\u001b[0m\n\u001b[0m",
      "\u001b[1;32m<ipython-input-26-157e9afbc910>\u001b[0m in \u001b[0;36mupdate_display\u001b[1;34m(self)\u001b[0m\n\u001b[0;32m      8\u001b[0m         \u001b[0mbrand_display\u001b[0m \u001b[1;33m=\u001b[0m \u001b[0mdisplay\u001b[0m\u001b[1;33m(\u001b[0m\u001b[0mImage\u001b[0m\u001b[1;33m(\u001b[0m\u001b[0mfilename\u001b[0m \u001b[1;33m=\u001b[0m \u001b[0mcorporate_logo\u001b[0m\u001b[1;33m)\u001b[0m\u001b[1;33m)\u001b[0m\u001b[1;33m\u001b[0m\u001b[1;33m\u001b[0m\u001b[0m\n\u001b[0;32m      9\u001b[0m         \u001b[0mdecorator_method\u001b[0m \u001b[1;33m=\u001b[0m \u001b[0mprint\u001b[0m\u001b[1;33m(\u001b[0m\u001b[0mbrand_display\u001b[0m\u001b[1;33m)\u001b[0m\u001b[1;33m\u001b[0m\u001b[1;33m\u001b[0m\u001b[0m\n\u001b[1;32m---> 10\u001b[1;33m         \u001b[1;32mreturn\u001b[0m \u001b[1;34mf'{decorator_method}\\n{self.generic_widget.update_display()}'\u001b[0m\u001b[1;33m\u001b[0m\u001b[1;33m\u001b[0m\u001b[0m\n\u001b[0m",
      "\u001b[1;31mTypeError\u001b[0m: update_display() missing 1 required positional argument: 'widget'"
     ]
    }
   ],
   "source": [
    "print(branded_quantity_widget.update_display())"
   ]
  },
  {
   "cell_type": "code",
   "execution_count": null,
   "metadata": {},
   "outputs": [],
   "source": []
  },
 "metadata": {
  "kernelspec": {
   "display_name": "Python 3",
   "language": "python",
   "name": "python3"
  },
  "language_info": {
   "codemirror_mode": {
    "name": "ipython",
    "version": 3
   },
   "file_extension": ".py",
   "mimetype": "text/x-python",
   "name": "python",
   "nbconvert_exporter": "python",
   "pygments_lexer": "ipython3",
   "version": "3.8.3"
  }
 },
 "nbformat": 4,
 "nbformat_minor": 4
}
